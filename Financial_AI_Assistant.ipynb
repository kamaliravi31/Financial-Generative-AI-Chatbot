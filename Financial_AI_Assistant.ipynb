{
 "cells": [
  {
   "cell_type": "code",
   "execution_count": null,
   "id": "85eb2895",
   "metadata": {},
   "outputs": [],
   "source": []
  },
  {
   "cell_type": "code",
   "execution_count": 1,
   "id": "e6908ba0",
   "metadata": {},
   "outputs": [],
   "source": [
    "import sklearn\n",
    "import matplotlib.pyplot as plt\n",
    "import pandas as pd \n",
    "import numpy as np\n",
    "import pandas_datareader as web\n",
    "import mplfinance as mpf\n",
    "import pickle \n",
    "import sys\n",
    "import datetime as dt\n",
    "import warnings\n",
    "warnings.filterwarnings(\"ignore\") \n"
   ]
  },
  {
   "cell_type": "code",
   "execution_count": null,
   "id": "5000bc74",
   "metadata": {},
   "outputs": [],
   "source": []
  },
  {
   "cell_type": "code",
   "execution_count": null,
   "id": "42a3bf2b",
   "metadata": {},
   "outputs": [],
   "source": [
    "\n"
   ]
  },
  {
   "cell_type": "code",
   "execution_count": null,
   "id": "385fe77a",
   "metadata": {},
   "outputs": [],
   "source": [
    "\n"
   ]
  },
  {
   "cell_type": "code",
   "execution_count": null,
   "id": "12fdc2ab",
   "metadata": {},
   "outputs": [],
   "source": [
    "\n"
   ]
  },
  {
   "cell_type": "code",
   "execution_count": 2,
   "id": "bfeae34c",
   "metadata": {},
   "outputs": [
    {
     "name": "stdout",
     "output_type": "stream",
     "text": [
      "{'AAPL': 20, 'TSLA': 5, 'JPM': 10}\n"
     ]
    }
   ],
   "source": [
    "with open('portfolio.pkl','rb') as f:\n",
    "    portfolio = pickle.load(f)\n",
    "    \n",
    "print(portfolio)"
   ]
  },
  {
   "cell_type": "code",
   "execution_count": 3,
   "id": "54a4b070",
   "metadata": {},
   "outputs": [],
   "source": [
    "\n",
    "\n",
    "def save_portfolio():\n",
    "    with open('portfolio.pkl','wb') as f:\n",
    "        pickle.dump(portfolio, f)\n",
    "\n",
    "def add_portfolio():\n",
    "    ticker = input(\"Which stock do you want to add:\")\n",
    "    amount = input(\"How many shares do you want to add:\")\n",
    "    \n",
    "    if ticker in portfolio.keys():\n",
    "        portfolio[ticker] += int(amount)\n",
    "    else:\n",
    "        portfolio[ticker] = int(amount)\n",
    "        \n",
    "    save_portfolio()\n",
    "        \n",
    "\n",
    "        \n",
    "        \n",
    "def remove_portfolio():\n",
    "    ticker = input(\"Which stock do you want to sell:\")\n",
    "    amount = input(\"How many shares do you want to sell:\")\n",
    "    \n",
    "    if ticker in portfolio.keys():\n",
    "        if amount <= portfolio[ticker]:\n",
    "            portfolio[ticker] -= int(amount)\n",
    "            save_portfolio()\n",
    "            \n",
    "        else:\n",
    "            print(\"You dont have enough shares!\")\n",
    "            \n",
    "\n",
    "def show_portfolio():\n",
    "    print(\"Your portfolio:\")\n",
    "    for ticker in portfolio.keys():\n",
    "        print(f\"You own {portfolio[ticker]} shares of {ticker}\")\n",
    "    \n",
    "    \n",
    "\n",
    "    \n",
    "    \n",
    "    \n",
    "    "
   ]
  },
  {
   "cell_type": "code",
   "execution_count": 4,
   "id": "ac01cf3e",
   "metadata": {},
   "outputs": [],
   "source": [
    "def portfolio_worth():\n",
    "    sum = 0\n",
    "    for ticker in portfolio.keys():\n",
    "        data = web.DataReader(ticker, 'yahoo')\n",
    "        price = data['Close'].iloc[-1]\n",
    "        sum += price\n",
    "    print(f\"Your portfolio is worth {sum} USD\")\n",
    "        \n",
    "        \n",
    "        \n",
    "        "
   ]
  },
  {
   "cell_type": "code",
   "execution_count": 5,
   "id": "25889de5",
   "metadata": {},
   "outputs": [],
   "source": [
    "def portfolio_gains():\n",
    "    starting_date = input(\"Enter a date for comparison (YYYY-MM-DD): \")\n",
    "    \n",
    "    sum_now = 0\n",
    "    sum_then = 0\n",
    "    \n",
    "    try:\n",
    "        for ticker in portfolio.keys():\n",
    "            data = web.DataReader(ticker, 'yahoo')\n",
    "            price_now = data['Close'].iloc[-1]\n",
    "            price_then = data.loc[data.index == starting_data]['Close'].values[0]\n",
    "            sum_now += price_now\n",
    "            sum_then += price_then\n",
    "            \n",
    "        print(f\"Relative Gains: {((sum_now-sum_them)/sum_then) * 100}%\")\n",
    "        print(f\"Absolute Gains: {sum_now-sum_then} USD\")\n",
    "            \n",
    "    except IndexError:\n",
    "        print(\"There was no trading on this day!\")\n",
    "    \n",
    "    \n",
    "    \n",
    "    \n",
    "    "
   ]
  },
  {
   "cell_type": "code",
   "execution_count": 6,
   "id": "fe012d1c",
   "metadata": {},
   "outputs": [],
   "source": [
    "def plot_chart():\n",
    "    ticker = input(\"Choose a ticker symbol: \")\n",
    "    starting_string = input(\"Choose a starting date (DD/MM/YYYY): \")\n",
    "    \n",
    "    plt.style.use('dark_background')\n",
    "    \n",
    "    start = dt.datetime.strptime(starting_string, \"%d/%m/%Y\")\n",
    "    end = dt.datetime.now()\n",
    "    \n",
    "    \n",
    "    data = web.DataReader(ticker, 'yahoo', start, end)\n",
    "    \n",
    "    colors = mpf.amke_marketcolors(up='#00ff00', down='#ff0000', wick='inherit', edge='inherit', volume='in')\n",
    "    mpf_style = mpf.make_mpf_style(base_mpf_style='nightclouds', marketcolors=colors)\n",
    "    mpf.plot(data, type='candle', style= mpf_style, volume=True)\n",
    "    \n",
    "    \n",
    "    \n",
    "\n",
    "    \n",
    "    \n",
    "    "
   ]
  },
  {
   "cell_type": "code",
   "execution_count": 7,
   "id": "1422bae3",
   "metadata": {},
   "outputs": [],
   "source": [
    "def bye():\n",
    "    print(\"Goodbye\")\n",
    "    sys.exit(0)"
   ]
  },
  {
   "cell_type": "code",
   "execution_count": 8,
   "id": "1a743eec",
   "metadata": {},
   "outputs": [
    {
     "name": "stdout",
     "output_type": "stream",
     "text": [
      "Collecting package metadata (current_repodata.json): done\n",
      "Solving environment: failed with initial frozen solve. Retrying with flexible solve.\n",
      "Collecting package metadata (repodata.json): done\n",
      "Solving environment: failed with initial frozen solve. Retrying with flexible solve.\n",
      "\n",
      "PackagesNotFoundError: The following packages are not available from current channels:\n",
      "\n",
      "  - neuralintents\n",
      "\n",
      "Current channels:\n",
      "\n",
      "  - https://repo.anaconda.com/pkgs/main/osx-64\n",
      "  - https://repo.anaconda.com/pkgs/main/noarch\n",
      "  - https://repo.anaconda.com/pkgs/r/osx-64\n",
      "  - https://repo.anaconda.com/pkgs/r/noarch\n",
      "\n",
      "To search for alternate channels that may provide the conda package you're\n",
      "looking for, navigate to\n",
      "\n",
      "    https://anaconda.org\n",
      "\n",
      "and use the search bar at the top of the page.\n",
      "\n",
      "\n",
      "\n",
      "Note: you may need to restart the kernel to use updated packages.\n"
     ]
    }
   ],
   "source": [
    "conda install neuralintents"
   ]
  },
  {
   "cell_type": "code",
   "execution_count": null,
   "id": "86e4ef17",
   "metadata": {},
   "outputs": [],
   "source": [
    "\n",
    "\n",
    "\n",
    "mapping = {\n",
    "    'plot_chart' : plot_chart,\n",
    "    'add_portfolio' : add_portfolio,\n",
    "    'remove_portfolio': remove_portfolio,\n",
    "    'show_portfolio' : show_portfolio,\n",
    "    'portfolio_worth': portfolio_worth,\n",
    "    'portfolio_gains' : portfolio_gains,\n",
    "    'bye': bye\n",
    "    \n",
    "}\n",
    "\n",
    "\n",
    "\n",
    "assistant = GenericAssistant('intents_1.json', intent_methods= mapping, model_name=\"financial_assistant_model\")\n",
    "\n",
    "\n",
    "assistant.train_model()\n",
    "assistant.save_model()\n",
    "\n",
    "while True:\n",
    "    message = input(\"\")\n",
    "    assistant.request(message)\n"
   ]
  }
 ],
 "metadata": {
  "kernelspec": {
   "display_name": "Python 3 (ipykernel)",
   "language": "python",
   "name": "python3"
  },
  "language_info": {
   "codemirror_mode": {
    "name": "ipython",
    "version": 3
   },
   "file_extension": ".py",
   "mimetype": "text/x-python",
   "name": "python",
   "nbconvert_exporter": "python",
   "pygments_lexer": "ipython3",
   "version": "3.9.7"
  }
 },
 "nbformat": 4,
 "nbformat_minor": 5
}
